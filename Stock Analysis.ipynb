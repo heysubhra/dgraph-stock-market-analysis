{
 "cells": [
  {
   "cell_type": "markdown",
   "metadata": {},
   "source": [
    "# Pattern Driven Stock Analysis\n",
    "\n",
    "Finding Similar Stocks using Graph Analytis in Neo4j.\n"
   ]
  },
  {
   "cell_type": "markdown",
   "metadata": {},
   "source": [
    "# Steps\n",
    "\n",
    "ETL Script is at Stock Analysis ETL.ipynb\n",
    "\n",
    "1. [X] Import Stock Data into Neo4j\n",
    "2. [X] Create [:NEXT] relationship property between nodes\n",
    "   \n",
    "4. [ ] Find KNN similarity using trade volume among nodes: Create [:SIMILAR_KNN_VOLUME]  relationship among PRICE Nodes\n",
    "5. [ ] Community detection based on Louvain algorithm using [:SIMILAR_KNN_VOLUME] relationship: Create VolumeCommunity property\n",
    "6. [ ] Hierarchical Structures Communities using Label Propagation Algorithm"
   ]
  },
  {
   "cell_type": "markdown",
   "metadata": {},
   "source": [
    "![Next.png](Next.png)"
   ]
  },
  {
   "cell_type": "markdown",
   "metadata": {},
   "source": [
    "    MATCH (s:Stock)-[r:TRADING_DAY]->(td:StockTradingDay) \n",
    "    WITH s, td\n",
    "    ORDER BY td.Date ASC\n",
    "    WITH s, collect(td) as nodes\n",
    "    CALL graph_util.chain_nodes(nodes, \"NEXT_DAY\")\n",
    "    YIELD connections\n",
    "    RETURN nodes, connections;"
   ]
  },
  {
   "cell_type": "markdown",
   "metadata": {},
   "source": [
    "  ##  \n",
    "    MATCH (s:Stock)-[r:TRADING_DAY]->(td:StockTradingDay) \n",
    "    WITH s, td\n",
    "    ORDER BY td.Date ASC\n",
    "    WITH s, collect(td.Close) as closes\n",
    "    SET s.close_array = closes\n"
   ]
  },
  {
   "cell_type": "markdown",
   "metadata": {},
   "source": [
    "##   Creating Date Nodes\n",
    "\n",
    "MATCH (td:StockTradingDay)  WITH DISTINCT td.Date as date ORDER BY date ASC WITH date MERGE (d:Date) set d.id = date;\n"
   ]
  },
  {
   "cell_type": "markdown",
   "metadata": {},
   "source": [
    "## Relating Date Nodes with Stock Trading day\n",
    "\n",
    "    MATCH (td:StockTradingDay)  \n",
    "    MATCH (d:Date) where td.Date = d.id\n",
    "    MERGE (d)-[:DATE]->(td);"
   ]
  },
  {
   "cell_type": "markdown",
   "metadata": {},
   "source": [
    " # Creating Next Date\n",
    "    \n",
    "    MATCH (d:Date)\n",
    "    WITH d\n",
    "    ORDER BY d.id ASC\n",
    "    WITH collect(d) as nodes\n",
    "    CALL graph_util.chain_nodes(nodes, \"DATE_NEXT\")\n",
    "    YIELD connections\n",
    "    RETURN nodes, connections;"
   ]
  },
  {
   "cell_type": "markdown",
   "metadata": {},
   "source": [
    "    MATCH (d:Date) \n",
    "    MATCH (s:Stock) \n",
    "    CALL {\n",
    "        WITH s,d\n",
    "        OPTIONAL MATCH (s)-[:TRADING_DAY]->(td:StockTradingDay)<-[:DATE]-(d)\n",
    "        RETURN\n",
    "        CASE \n",
    "            WHEN td.Volume is null THEN 0\n",
    "            ELSE td.Volume\n",
    "        END as volume\n",
    "        }\n",
    "    WITH s, collect(volume) as volumes\n",
    "    SET s.volumes_array = volumes\n",
    "    RETURN s, size(s.volumes_array)"
   ]
  },
  {
   "cell_type": "markdown",
   "metadata": {},
   "source": [
    "    MATCH (td1:StockTradingDay)-[r:NEXT_DAY]->(td2:StockTradingDay) \n",
    "    SET r.volumeGap = (td2.Volume-td1.Volume);"
   ]
  },
  {
   "cell_type": "code",
   "execution_count": null,
   "metadata": {},
   "outputs": [],
   "source": []
  },
  {
   "cell_type": "markdown",
   "metadata": {},
   "source": [
    "### KNN\n",
    "Find KNN similarity using trade volume among nodes, using [:SIMILAR_KNN_VOLUME] relationship among PRICE Nodes"
   ]
  },
  {
   "cell_type": "code",
   "execution_count": null,
   "metadata": {},
   "outputs": [],
   "source": [
    "query = \"\"\"\n",
    "\n",
    "CALL gds.nodeSimilarity.write.estimate('northwindGraph1', {\n",
    "  writeRelationshipType: 'SIMILAR',\n",
    "  writeProperty: 'score'\n",
    "})\n",
    "YIELD nodeCount, relationshipCount, bytesMin, bytesMax, requiredMemory\n",
    "\n",
    "\"\"\""
   ]
  },
  {
   "cell_type": "code",
   "execution_count": null,
   "metadata": {},
   "outputs": [],
   "source": [
    "query = \"\"\"\n",
    "CALL gds.nodeSimilarity.stream('northwindGraph1')\n",
    "YIELD node1, node2, similarity\n",
    "RETURN gds.util.asNode(node1).customerID AS customer1, gds.util.asNode(node2).customerID AS customer2, similarity\n",
    "ORDER BY similarity DESCENDING, customer1, customer2\n",
    "\"\"\"\n",
    "\n",
    "cypher_run(query)"
   ]
  },
  {
   "cell_type": "markdown",
   "metadata": {},
   "source": [
    "### Community detection\n",
    "Using Louvain algorithm on [:SIMILAR_KNN_VOLUME] relationship to Create VolumeCommunity property"
   ]
  },
  {
   "cell_type": "code",
   "execution_count": 3,
   "metadata": {},
   "outputs": [],
   "source": [
    "# https://neo4j.com/docs/graph-data-science/current/algorithms/louvain/"
   ]
  },
  {
   "cell_type": "markdown",
   "metadata": {},
   "source": [
    "### Label Propagation Algorithm\n",
    "Hierarchical Structures Communities using"
   ]
  },
  {
   "cell_type": "code",
   "execution_count": 2,
   "metadata": {},
   "outputs": [],
   "source": [
    "# https://neo4j.com/docs/graph-data-science/current/algorithms/label-propagation/"
   ]
  },
  {
   "cell_type": "code",
   "execution_count": null,
   "metadata": {},
   "outputs": [],
   "source": []
  }
 ],
 "metadata": {
  "kernelspec": {
   "display_name": "Python 3",
   "language": "python",
   "name": "python3"
  },
  "language_info": {
   "codemirror_mode": {
    "name": "ipython",
    "version": 3
   },
   "file_extension": ".py",
   "mimetype": "text/x-python",
   "name": "python",
   "nbconvert_exporter": "python",
   "pygments_lexer": "ipython3",
   "version": "3.10.9"
  }
 },
 "nbformat": 4,
 "nbformat_minor": 4
}
