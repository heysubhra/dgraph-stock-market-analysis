{
 "cells": [
  {
   "cell_type": "markdown",
   "metadata": {},
   "source": [
    "# Pattern Driven Stock Analysis\n",
    "\n",
    "Finding Similar Stocks using Graph Analytis in Neo4j.\n"
   ]
  },
  {
   "cell_type": "markdown",
   "metadata": {},
   "source": [
    "# Steps\n",
    "\n",
    "ETL Script is at Stock Analysis ETL.ipynb\n",
    "\n",
    "1. [X] Import Stock Data into Neo4j\n",
    "2. [X] Create [:NEXT] relationship property between nodes\n",
    "   \n",
    "4. [X] Find similarity using trade volume among nodes: Create [:VOL_SIMILAR]  relationship among STOCK Nodes\n",
    "5. [X] Community detection based on Louvain algorithm using [:VOL_SIMILAR] relationship: Create community property"
   ]
  },
  {
   "cell_type": "markdown",
   "metadata": {},
   "source": [
    "![Next.png](Next.png)"
   ]
  },
  {
   "cell_type": "markdown",
   "metadata": {},
   "source": [
    "### Create NEXT_DAY relationship among StockTradingDay nodes"
   ]
  },
  {
   "cell_type": "markdown",
   "metadata": {},
   "source": [
    "    MATCH (s:Stock)-[r:TRADING_DAY]->(td:StockTradingDay) \n",
    "    WITH s, td\n",
    "    ORDER BY td.Date ASC\n",
    "    WITH s, collect(td) as nodes\n",
    "    CALL graph_util.chain_nodes(nodes, \"NEXT_DAY\")\n",
    "    YIELD connections\n",
    "    RETURN nodes, connections;"
   ]
  },
  {
   "cell_type": "markdown",
   "metadata": {},
   "source": [
    "###   Creating Date Nodes\n",
    "\n",
    "    MATCH (td:StockTradingDay)  \n",
    "    WITH DISTINCT td.Date as date\n",
    "    ORDER BY date ASC WITH date CREATE (d:Date {id:date});\n"
   ]
  },
  {
   "cell_type": "markdown",
   "metadata": {},
   "source": [
    "### Relating Date Nodes with Stock Trading day\n",
    "\n",
    "    MATCH (td:StockTradingDay)  \n",
    "    MATCH (d:Date) where td.Date = d.id\n",
    "    MERGE (d)-[:DATE]->(td);"
   ]
  },
  {
   "cell_type": "markdown",
   "metadata": {},
   "source": [
    " ### Creating DATE_NEXT relationship among Date nodes\n",
    "    \n",
    "    MATCH (d:Date)\n",
    "    WITH d\n",
    "    ORDER BY d.id ASC\n",
    "    WITH collect(d) as nodes\n",
    "    CALL graph_util.chain_nodes(nodes, \"DATE_NEXT\")\n",
    "    YIELD connections\n",
    "    RETURN nodes, connections;"
   ]
  },
  {
   "cell_type": "markdown",
   "metadata": {},
   "source": [
    "    MATCH (td1:StockTradingDay)-[r:NEXT_DAY]->(td2:StockTradingDay) \n",
    "    SET r.volumeGap = (td2.Volume-td1.Volume);"
   ]
  },
  {
   "cell_type": "markdown",
   "metadata": {},
   "source": [
    "### Obtain stock volumes of all the dates \n",
    "\n",
    "Down load the result as CSV and rename it to 'StockDateVolume.csv'\n"
   ]
  },
  {
   "cell_type": "markdown",
   "metadata": {},
   "source": [
    "    MATCH (d:Date) \n",
    "    MATCH (s:Stock) \n",
    "    CALL {\n",
    "        WITH s,d\n",
    "        OPTIONAL MATCH (s)-[:TRADING_DAY]->(td:StockTradingDay)<-[:DATE]-(d)\n",
    "        RETURN\n",
    "        CASE \n",
    "            WHEN td.Volume is null THEN toFloat(0)\n",
    "            ELSE toFloat(td.Volume)\n",
    "        END as volume\n",
    "        }\n",
    "    RETURN s.id, d.id, volume;"
   ]
  },
  {
   "cell_type": "markdown",
   "metadata": {},
   "source": [
    "# Stock Similarity using Dynamic time warping (DTW)"
   ]
  },
  {
   "cell_type": "code",
   "execution_count": 1,
   "metadata": {},
   "outputs": [
    {
     "data": {
      "text/html": [
       "<div>\n",
       "<style scoped>\n",
       "    .dataframe tbody tr th:only-of-type {\n",
       "        vertical-align: middle;\n",
       "    }\n",
       "\n",
       "    .dataframe tbody tr th {\n",
       "        vertical-align: top;\n",
       "    }\n",
       "\n",
       "    .dataframe thead th {\n",
       "        text-align: right;\n",
       "    }\n",
       "</style>\n",
       "<table border=\"1\" class=\"dataframe\">\n",
       "  <thead>\n",
       "    <tr style=\"text-align: right;\">\n",
       "      <th></th>\n",
       "      <th>stockId</th>\n",
       "      <th>date</th>\n",
       "      <th>volume</th>\n",
       "    </tr>\n",
       "  </thead>\n",
       "  <tbody>\n",
       "    <tr>\n",
       "      <th>0</th>\n",
       "      <td>MRNA</td>\n",
       "      <td>2010-01-04</td>\n",
       "      <td>0</td>\n",
       "    </tr>\n",
       "    <tr>\n",
       "      <th>1</th>\n",
       "      <td>TCOM</td>\n",
       "      <td>2010-01-04</td>\n",
       "      <td>3325200</td>\n",
       "    </tr>\n",
       "    <tr>\n",
       "      <th>2</th>\n",
       "      <td>ADI</td>\n",
       "      <td>2010-01-04</td>\n",
       "      <td>2102700</td>\n",
       "    </tr>\n",
       "    <tr>\n",
       "      <th>3</th>\n",
       "      <td>ADP</td>\n",
       "      <td>2010-01-04</td>\n",
       "      <td>3930120</td>\n",
       "    </tr>\n",
       "    <tr>\n",
       "      <th>4</th>\n",
       "      <td>ADSK</td>\n",
       "      <td>2010-01-04</td>\n",
       "      <td>2228600</td>\n",
       "    </tr>\n",
       "    <tr>\n",
       "      <th>...</th>\n",
       "      <td>...</td>\n",
       "      <td>...</td>\n",
       "      <td>...</td>\n",
       "    </tr>\n",
       "    <tr>\n",
       "      <th>300181</th>\n",
       "      <td>PAYX</td>\n",
       "      <td>2021-09-10</td>\n",
       "      <td>1257600</td>\n",
       "    </tr>\n",
       "    <tr>\n",
       "      <th>300182</th>\n",
       "      <td>PCAR</td>\n",
       "      <td>2021-09-10</td>\n",
       "      <td>2495500</td>\n",
       "    </tr>\n",
       "    <tr>\n",
       "      <th>300183</th>\n",
       "      <td>PDD</td>\n",
       "      <td>2021-09-10</td>\n",
       "      <td>4800600</td>\n",
       "    </tr>\n",
       "    <tr>\n",
       "      <th>300184</th>\n",
       "      <td>PYPL</td>\n",
       "      <td>2021-09-10</td>\n",
       "      <td>3811700</td>\n",
       "    </tr>\n",
       "    <tr>\n",
       "      <th>300185</th>\n",
       "      <td>QCOM</td>\n",
       "      <td>2021-09-10</td>\n",
       "      <td>6260200</td>\n",
       "    </tr>\n",
       "  </tbody>\n",
       "</table>\n",
       "<p>300186 rows × 3 columns</p>\n",
       "</div>"
      ],
      "text/plain": [
       "       stockId        date   volume\n",
       "0         MRNA  2010-01-04        0\n",
       "1         TCOM  2010-01-04  3325200\n",
       "2          ADI  2010-01-04  2102700\n",
       "3          ADP  2010-01-04  3930120\n",
       "4         ADSK  2010-01-04  2228600\n",
       "...        ...         ...      ...\n",
       "300181    PAYX  2021-09-10  1257600\n",
       "300182    PCAR  2021-09-10  2495500\n",
       "300183     PDD  2021-09-10  4800600\n",
       "300184    PYPL  2021-09-10  3811700\n",
       "300185    QCOM  2021-09-10  6260200\n",
       "\n",
       "[300186 rows x 3 columns]"
      ]
     },
     "execution_count": 1,
     "metadata": {},
     "output_type": "execute_result"
    }
   ],
   "source": [
    "STOCK_DATA=\"NASDAQ_DATA\"\n",
    "import pandas as pd\n",
    "\n",
    "DATA_FILE_NAME = 'StockDateVolume.csv'\n",
    "StockVol_DF = pd.read_csv('{path}/{file}'.format(path=STOCK_DATA,file=DATA_FILE_NAME),delimiter=',')\n",
    "StockVol_DF"
   ]
  },
  {
   "cell_type": "code",
   "execution_count": 9,
   "metadata": {},
   "outputs": [
    {
     "data": {
      "text/plain": [
       "array(['MRNA', 'TCOM', 'ADI', 'ADP', 'ADSK', 'AMD', 'AMGN', 'ANSS',\n",
       "       'ASML', 'BIIB', 'CDNS', 'CERN', 'CHTR', 'CMCSA', 'CPRT', 'CRWD',\n",
       "       'CSX', 'CTAS', 'CTSH', 'DOCU', 'DXCM', 'EA', 'FAST', 'FB', 'FOXA',\n",
       "       'GOOG', 'GOOGL', 'INTC', 'JD', 'LRCX', 'LULU', 'MCHP', 'MDLZ',\n",
       "       'MELI', 'MRVL', 'MTCH', 'MU', 'REGN', 'SBUX', 'SNPS', 'SPLK',\n",
       "       'TEAM', 'TXN', 'VRSK', 'WBA', 'XEL', 'ZM', 'NFLX', 'NTES', 'NVDA',\n",
       "       'NXPI', 'ORLY', 'PEP', 'PTON', 'ROST', 'SGEN', 'SIRI', 'SWKS',\n",
       "       'TMUS', 'TSLA', 'VRSN', 'VRTX', 'WDAY', 'XLNX', 'AAPL', 'ADBE',\n",
       "       'AEP', 'ALGN', 'AMAT', 'AMZN', 'ATVI', 'AVGO', 'BIDU', 'BKNG',\n",
       "       'CDW', 'CHKP', 'COST', 'CSCO', 'DLTR', 'EBAY', 'EXC', 'FISV',\n",
       "       'FOX', 'GILD', 'HON', 'IDXX', 'ILMN', 'INCY', 'INTU', 'ISRG',\n",
       "       'KDP', 'KHC', 'KLAC', 'MAR', 'MNST', 'MSFT', 'OKTA', 'PAYX',\n",
       "       'PCAR', 'PDD', 'PYPL', 'QCOM'], dtype=object)"
      ]
     },
     "execution_count": 9,
     "metadata": {},
     "output_type": "execute_result"
    }
   ],
   "source": [
    "stocks = StockVol_DF.stockId.unique()\n",
    "stocks"
   ]
  },
  {
   "cell_type": "code",
   "execution_count": 58,
   "metadata": {},
   "outputs": [
    {
     "data": {
      "application/vnd.jupyter.widget-view+json": {
       "model_id": "bd8b93f00fa24a14a70513e5784af24e",
       "version_major": 2,
       "version_minor": 0
      },
      "text/plain": [
       "IntProgress(value=0, description='Processing:', max=5151)"
      ]
     },
     "metadata": {},
     "output_type": "display_data"
    }
   ],
   "source": [
    "import csv\n",
    "import itertools\n",
    "from tslearn.metrics import dtw as ts_dtw\n",
    "from sklearn.decomposition import PCA\n",
    "from sklearn.preprocessing import StandardScaler\n",
    "from sklearn.preprocessing import OrdinalEncoder\n",
    "sc = StandardScaler()\n",
    "enc = OrdinalEncoder()\n",
    "\n",
    "from ipywidgets import IntProgress\n",
    "from IPython.display import display\n",
    "import time\n",
    "\n",
    "\n",
    "\n",
    "\n",
    "def get_stock_ts(stockid,df):\n",
    "    DF = df[df['stockId'] == stockid]\n",
    "    DV = DF.values\n",
    "    enc.fit(DV)\n",
    "    data = enc.transform(DV)\n",
    "    data_std = sc.fit_transform(data)\n",
    "    return data_std\n",
    "\n",
    "\n",
    "c = []\n",
    "c.extend(itertools.combinations(stocks, 2))\n",
    "filename = \"stock_similarity.csv\"\n",
    "\n",
    "# display progress bar\n",
    "p = IntProgress(min=0, max=len(c),description='Processing:',) \n",
    "display(p)\n",
    "\n",
    "with open(filename, 'w') as csvfile: \n",
    "    fields = ['stock1', 'stock2', 'similarity'] \n",
    "    csvwriter = csv.writer(csvfile)\n",
    "    csvwriter.writerow(fields) \n",
    "    \n",
    "    for i in range(0, len(c)):\n",
    "        s1 = c[i][0]\n",
    "        s2 = c[i][1]\n",
    "        data_std = get_stock_ts(s1,StockVol_DF)\n",
    "        data_std2 = get_stock_ts(s2,StockVol_DF)\n",
    "        distance = ts_dtw(data_std, data_std2)\n",
    "    \n",
    "        row = [s1,s2,(1/distance*10)]\n",
    "\n",
    "        # writing the data rows \n",
    "        csvwriter.writerow(row)\n",
    "        p.value += 1\n",
    "\n"
   ]
  },
  {
   "cell_type": "code",
   "execution_count": 59,
   "metadata": {},
   "outputs": [
    {
     "data": {
      "text/html": [
       "<div>\n",
       "<style scoped>\n",
       "    .dataframe tbody tr th:only-of-type {\n",
       "        vertical-align: middle;\n",
       "    }\n",
       "\n",
       "    .dataframe tbody tr th {\n",
       "        vertical-align: top;\n",
       "    }\n",
       "\n",
       "    .dataframe thead th {\n",
       "        text-align: right;\n",
       "    }\n",
       "</style>\n",
       "<table border=\"1\" class=\"dataframe\">\n",
       "  <thead>\n",
       "    <tr style=\"text-align: right;\">\n",
       "      <th></th>\n",
       "      <th>stock1</th>\n",
       "      <th>stock2</th>\n",
       "      <th>similarity</th>\n",
       "    </tr>\n",
       "  </thead>\n",
       "  <tbody>\n",
       "    <tr>\n",
       "      <th>0</th>\n",
       "      <td>MRNA</td>\n",
       "      <td>TCOM</td>\n",
       "      <td>0.171130</td>\n",
       "    </tr>\n",
       "    <tr>\n",
       "      <th>1</th>\n",
       "      <td>MRNA</td>\n",
       "      <td>ADI</td>\n",
       "      <td>0.176612</td>\n",
       "    </tr>\n",
       "    <tr>\n",
       "      <th>2</th>\n",
       "      <td>MRNA</td>\n",
       "      <td>ADP</td>\n",
       "      <td>0.159324</td>\n",
       "    </tr>\n",
       "    <tr>\n",
       "      <th>3</th>\n",
       "      <td>MRNA</td>\n",
       "      <td>ADSK</td>\n",
       "      <td>0.160290</td>\n",
       "    </tr>\n",
       "    <tr>\n",
       "      <th>4</th>\n",
       "      <td>MRNA</td>\n",
       "      <td>AMD</td>\n",
       "      <td>0.241302</td>\n",
       "    </tr>\n",
       "  </tbody>\n",
       "</table>\n",
       "</div>"
      ],
      "text/plain": [
       "  stock1 stock2  similarity\n",
       "0   MRNA   TCOM    0.171130\n",
       "1   MRNA    ADI    0.176612\n",
       "2   MRNA    ADP    0.159324\n",
       "3   MRNA   ADSK    0.160290\n",
       "4   MRNA    AMD    0.241302"
      ]
     },
     "execution_count": 59,
     "metadata": {},
     "output_type": "execute_result"
    }
   ],
   "source": [
    "stock_similarity = pd.read_csv(filename,delimiter=',')\n",
    "# stock_similarity['similarity'] =  1/stock_similarity['similarity']*10\n",
    "stock_similarity.head()"
   ]
  },
  {
   "cell_type": "markdown",
   "metadata": {},
   "source": [
    "# Load the similarity data to Memgraph"
   ]
  },
  {
   "cell_type": "markdown",
   "metadata": {},
   "source": [
    "    LOAD CSV FROM 'http://fileserver:4858/stock_similarity.csv' WITH HEADER AS row\n",
    "    MATCH (s1:Stock {id:row.stock1})\n",
    "    MATCH (s2:Stock {id:row.stock2})\n",
    "    MERGE (s1)-[rv:VOL_SIMILAR {weight:toFloat(row.similarity)}]->(s2);\n"
   ]
  },
  {
   "cell_type": "markdown",
   "metadata": {},
   "source": [
    "### Community detection\n",
    "Using Louvain algorithm on [:VOL_SIMILAR] relationship to Create VolumeCommunity property\n",
    "\n",
    "https://memgraph.com/docs/advanced-algorithms/available-algorithms/community_detection\n",
    "\n",
    "https://memgraph.com/blog/identify-patterns-and-anomalies-with-community-detection-graph-algorithm"
   ]
  },
  {
   "cell_type": "markdown",
   "metadata": {},
   "source": [
    "    MATCH  p=((s1:Stock)-[e:VOL_SIMILAR]->(s2:Stock))\n",
    "    WITH project(p) AS subgraph \n",
    "    CALL community_detection.get(subgraph)\n",
    "    YIELD node, community_id\n",
    "    SET node.community = community_id\n",
    "    RETURN node, community_id\n",
    "    ORDER BY node.id;\n"
   ]
  },
  {
   "cell_type": "code",
   "execution_count": 57,
   "metadata": {},
   "outputs": [
    {
     "data": {
      "text/plain": [
       "[{'AAPL',\n",
       "  'AMD',\n",
       "  'CDW',\n",
       "  'CHTR',\n",
       "  'CRWD',\n",
       "  'DOCU',\n",
       "  'DXCM',\n",
       "  'FB',\n",
       "  'FOX',\n",
       "  'FOXA',\n",
       "  'JD',\n",
       "  'KHC',\n",
       "  'MRNA',\n",
       "  'NXPI',\n",
       "  'OKTA',\n",
       "  'PDD',\n",
       "  'PTON',\n",
       "  'PYPL',\n",
       "  'SPLK',\n",
       "  'TEAM',\n",
       "  'TSLA',\n",
       "  'WDAY',\n",
       "  'ZM'},\n",
       " {'ADBE',\n",
       "  'ADP',\n",
       "  'ADSK',\n",
       "  'AMAT',\n",
       "  'AMGN',\n",
       "  'AMZN',\n",
       "  'ASML',\n",
       "  'BIDU',\n",
       "  'BIIB',\n",
       "  'BKNG',\n",
       "  'CDNS',\n",
       "  'CHKP',\n",
       "  'CMCSA',\n",
       "  'COST',\n",
       "  'CSCO',\n",
       "  'CSX',\n",
       "  'CTAS',\n",
       "  'CTSH',\n",
       "  'EA',\n",
       "  'EBAY',\n",
       "  'FISV',\n",
       "  'GILD',\n",
       "  'GOOG',\n",
       "  'GOOGL',\n",
       "  'HON',\n",
       "  'ILMN',\n",
       "  'INTC',\n",
       "  'INTU',\n",
       "  'ISRG',\n",
       "  'KLAC',\n",
       "  'MAR',\n",
       "  'MDLZ',\n",
       "  'MNST',\n",
       "  'MRVL',\n",
       "  'MSFT',\n",
       "  'MTCH',\n",
       "  'NFLX',\n",
       "  'NVDA',\n",
       "  'ORLY',\n",
       "  'PAYX',\n",
       "  'PCAR',\n",
       "  'PEP',\n",
       "  'QCOM',\n",
       "  'ROST',\n",
       "  'SBUX',\n",
       "  'SIRI',\n",
       "  'SWKS',\n",
       "  'TXN',\n",
       "  'VRSN',\n",
       "  'WBA',\n",
       "  'XLNX'},\n",
       " {'ADI',\n",
       "  'AEP',\n",
       "  'ALGN',\n",
       "  'ANSS',\n",
       "  'ATVI',\n",
       "  'AVGO',\n",
       "  'CERN',\n",
       "  'CPRT',\n",
       "  'DLTR',\n",
       "  'EXC',\n",
       "  'FAST',\n",
       "  'IDXX',\n",
       "  'INCY',\n",
       "  'KDP',\n",
       "  'LRCX',\n",
       "  'LULU',\n",
       "  'MCHP',\n",
       "  'MELI',\n",
       "  'MU',\n",
       "  'NTES',\n",
       "  'REGN',\n",
       "  'SGEN',\n",
       "  'SNPS',\n",
       "  'TCOM',\n",
       "  'TMUS',\n",
       "  'VRSK',\n",
       "  'VRTX',\n",
       "  'XEL'}]"
      ]
     },
     "execution_count": 57,
     "metadata": {},
     "output_type": "execute_result"
    }
   ],
   "source": [
    "# Networkx Community Detection\n",
    "\n",
    "import networkx as nx\n",
    "import pandas as pd\n",
    "\n",
    "stock_similarity = stock_similarity.rename(columns={'stock1': 'source', 'stock2': 'target','similarity': 'weight'})\n",
    "\n",
    "Graphtype = nx.Graph()\n",
    "G = nx.from_pandas_edgelist(stock_similarity, edge_attr='weight', create_using=Graphtype)\n",
    "# community = nx.community.louvain_partitions(G,weight=\"weight\",resolution=0)\n",
    "nx.community.louvain_communities(G, seed=123)"
   ]
  },
  {
   "cell_type": "markdown",
   "metadata": {},
   "source": [
    "![community.png](community.png)"
   ]
  },
  {
   "cell_type": "code",
   "execution_count": null,
   "metadata": {},
   "outputs": [],
   "source": []
  }
 ],
 "metadata": {
  "kernelspec": {
   "display_name": "Python 3",
   "language": "python",
   "name": "python3"
  },
  "language_info": {
   "codemirror_mode": {
    "name": "ipython",
    "version": 3
   },
   "file_extension": ".py",
   "mimetype": "text/x-python",
   "name": "python",
   "nbconvert_exporter": "python",
   "pygments_lexer": "ipython3",
   "version": "3.9.6"
  }
 },
 "nbformat": 4,
 "nbformat_minor": 4
}
