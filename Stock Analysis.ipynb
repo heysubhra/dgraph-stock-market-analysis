{
 "cells": [
  {
   "cell_type": "markdown",
   "metadata": {},
   "source": [
    "# Pattern Driven Stock Analysis\n",
    "\n",
    "Finding Similar Stocks using Graph Analytis in Neo4j.\n"
   ]
  },
  {
   "cell_type": "markdown",
   "metadata": {},
   "source": [
    "# Steps\n",
    "\n",
    "1. Import Stock Data into Neo4j\n",
    "2. Create [:NEXT] relationship property between nodes\n",
    "3. Find KNN similarity using trade volume among nodes: Create [:SIMILAR_KNN_VOLUME]  relationship among PRICE Nodes\n",
    "4. Community detection based on Louvain algorithm using [:SIMILAR_KNN_VOLUME] relationship: Create VolumeCommunity property\n",
    "5. Hierarchical Structures Communities using Label Propagation Algorithm"
   ]
  },
  {
   "cell_type": "code",
   "execution_count": 2,
   "metadata": {},
   "outputs": [],
   "source": [
    "import os\n",
    "%load_ext dotenv\n",
    "%dotenv\n",
    "\n",
    "NEO4J_HOST=os.getenv(\"NEO4J_HOST\")\n",
    "NEO4J_USER=os.getenv(\"NEO4J_USER\")\n",
    "NEO4J_PASSWORD=os.getenv(\"NEO4J_PASSWORD\")\n",
    "STOCK_DATA=os.getenv(\"STOCK_DATA\")"
   ]
  },
  {
   "cell_type": "markdown",
   "metadata": {},
   "source": [
    "### Import Stock Data into Neo4j\n",
    "\n",
    "Using NASDAQ Data from: https://www.kaggle.com/datasets/kalilurrahman/nasdaq100-stock-price-data"
   ]
  },
  {
   "cell_type": "code",
   "execution_count": 4,
   "metadata": {},
   "outputs": [
    {
     "data": {
      "text/html": [
       "<div>\n",
       "<style scoped>\n",
       "    .dataframe tbody tr th:only-of-type {\n",
       "        vertical-align: middle;\n",
       "    }\n",
       "\n",
       "    .dataframe tbody tr th {\n",
       "        vertical-align: top;\n",
       "    }\n",
       "\n",
       "    .dataframe thead th {\n",
       "        text-align: right;\n",
       "    }\n",
       "</style>\n",
       "<table border=\"1\" class=\"dataframe\">\n",
       "  <thead>\n",
       "    <tr style=\"text-align: right;\">\n",
       "      <th></th>\n",
       "      <th>Date</th>\n",
       "      <th>Open</th>\n",
       "      <th>High</th>\n",
       "      <th>Low</th>\n",
       "      <th>Close</th>\n",
       "      <th>Adj Close</th>\n",
       "      <th>Volume</th>\n",
       "      <th>Name</th>\n",
       "    </tr>\n",
       "  </thead>\n",
       "  <tbody>\n",
       "    <tr>\n",
       "      <th>0</th>\n",
       "      <td>2010-01-04</td>\n",
       "      <td>7.622500</td>\n",
       "      <td>7.660714</td>\n",
       "      <td>7.585000</td>\n",
       "      <td>7.643214</td>\n",
       "      <td>6.562591</td>\n",
       "      <td>493729600</td>\n",
       "      <td>AAPL</td>\n",
       "    </tr>\n",
       "    <tr>\n",
       "      <th>1</th>\n",
       "      <td>2010-01-05</td>\n",
       "      <td>7.664286</td>\n",
       "      <td>7.699643</td>\n",
       "      <td>7.616071</td>\n",
       "      <td>7.656429</td>\n",
       "      <td>6.573935</td>\n",
       "      <td>601904800</td>\n",
       "      <td>AAPL</td>\n",
       "    </tr>\n",
       "    <tr>\n",
       "      <th>2</th>\n",
       "      <td>2010-01-06</td>\n",
       "      <td>7.656429</td>\n",
       "      <td>7.686786</td>\n",
       "      <td>7.526786</td>\n",
       "      <td>7.534643</td>\n",
       "      <td>6.469369</td>\n",
       "      <td>552160000</td>\n",
       "      <td>AAPL</td>\n",
       "    </tr>\n",
       "    <tr>\n",
       "      <th>3</th>\n",
       "      <td>2010-01-07</td>\n",
       "      <td>7.562500</td>\n",
       "      <td>7.571429</td>\n",
       "      <td>7.466071</td>\n",
       "      <td>7.520714</td>\n",
       "      <td>6.457407</td>\n",
       "      <td>477131200</td>\n",
       "      <td>AAPL</td>\n",
       "    </tr>\n",
       "    <tr>\n",
       "      <th>4</th>\n",
       "      <td>2010-01-08</td>\n",
       "      <td>7.510714</td>\n",
       "      <td>7.571429</td>\n",
       "      <td>7.466429</td>\n",
       "      <td>7.570714</td>\n",
       "      <td>6.500339</td>\n",
       "      <td>447610800</td>\n",
       "      <td>AAPL</td>\n",
       "    </tr>\n",
       "    <tr>\n",
       "      <th>...</th>\n",
       "      <td>...</td>\n",
       "      <td>...</td>\n",
       "      <td>...</td>\n",
       "      <td>...</td>\n",
       "      <td>...</td>\n",
       "      <td>...</td>\n",
       "      <td>...</td>\n",
       "      <td>...</td>\n",
       "    </tr>\n",
       "    <tr>\n",
       "      <th>271675</th>\n",
       "      <td>2021-09-03</td>\n",
       "      <td>295.325012</td>\n",
       "      <td>301.804993</td>\n",
       "      <td>292.029999</td>\n",
       "      <td>298.290009</td>\n",
       "      <td>298.290009</td>\n",
       "      <td>6127900</td>\n",
       "      <td>ZM</td>\n",
       "    </tr>\n",
       "    <tr>\n",
       "      <th>271676</th>\n",
       "      <td>2021-09-07</td>\n",
       "      <td>298.295013</td>\n",
       "      <td>300.980011</td>\n",
       "      <td>294.799988</td>\n",
       "      <td>299.959991</td>\n",
       "      <td>299.959991</td>\n",
       "      <td>4251900</td>\n",
       "      <td>ZM</td>\n",
       "    </tr>\n",
       "    <tr>\n",
       "      <th>271677</th>\n",
       "      <td>2021-09-08</td>\n",
       "      <td>299.549988</td>\n",
       "      <td>299.959991</td>\n",
       "      <td>290.529999</td>\n",
       "      <td>293.600006</td>\n",
       "      <td>293.600006</td>\n",
       "      <td>3934400</td>\n",
       "      <td>ZM</td>\n",
       "    </tr>\n",
       "    <tr>\n",
       "      <th>271678</th>\n",
       "      <td>2021-09-09</td>\n",
       "      <td>292.160004</td>\n",
       "      <td>297.570007</td>\n",
       "      <td>291.130005</td>\n",
       "      <td>295.859985</td>\n",
       "      <td>295.859985</td>\n",
       "      <td>3350100</td>\n",
       "      <td>ZM</td>\n",
       "    </tr>\n",
       "    <tr>\n",
       "      <th>271679</th>\n",
       "      <td>2021-09-10</td>\n",
       "      <td>296.910004</td>\n",
       "      <td>306.263000</td>\n",
       "      <td>296.809998</td>\n",
       "      <td>301.500000</td>\n",
       "      <td>301.500000</td>\n",
       "      <td>6089600</td>\n",
       "      <td>ZM</td>\n",
       "    </tr>\n",
       "  </tbody>\n",
       "</table>\n",
       "<p>271680 rows × 8 columns</p>\n",
       "</div>"
      ],
      "text/plain": [
       "              Date        Open        High         Low       Close  \\\n",
       "0       2010-01-04    7.622500    7.660714    7.585000    7.643214   \n",
       "1       2010-01-05    7.664286    7.699643    7.616071    7.656429   \n",
       "2       2010-01-06    7.656429    7.686786    7.526786    7.534643   \n",
       "3       2010-01-07    7.562500    7.571429    7.466071    7.520714   \n",
       "4       2010-01-08    7.510714    7.571429    7.466429    7.570714   \n",
       "...            ...         ...         ...         ...         ...   \n",
       "271675  2021-09-03  295.325012  301.804993  292.029999  298.290009   \n",
       "271676  2021-09-07  298.295013  300.980011  294.799988  299.959991   \n",
       "271677  2021-09-08  299.549988  299.959991  290.529999  293.600006   \n",
       "271678  2021-09-09  292.160004  297.570007  291.130005  295.859985   \n",
       "271679  2021-09-10  296.910004  306.263000  296.809998  301.500000   \n",
       "\n",
       "         Adj Close     Volume  Name  \n",
       "0         6.562591  493729600  AAPL  \n",
       "1         6.573935  601904800  AAPL  \n",
       "2         6.469369  552160000  AAPL  \n",
       "3         6.457407  477131200  AAPL  \n",
       "4         6.500339  447610800  AAPL  \n",
       "...            ...        ...   ...  \n",
       "271675  298.290009    6127900    ZM  \n",
       "271676  299.959991    4251900    ZM  \n",
       "271677  293.600006    3934400    ZM  \n",
       "271678  295.859985    3350100    ZM  \n",
       "271679  301.500000    6089600    ZM  \n",
       "\n",
       "[271680 rows x 8 columns]"
      ]
     },
     "execution_count": 4,
     "metadata": {},
     "output_type": "execute_result"
    }
   ],
   "source": [
    "import pandas as pd\n",
    "\n",
    "DATA_FILE_NAME = 'NASDAQ_100_Data_From_2010.csv'\n",
    "NASDAQ_DF = pd.read_csv('{path}/{file}'.format(path=STOCK_DATA,file=DATA_FILE_NAME),delimiter='\\t')\n",
    "NASDAQ_DF"
   ]
  },
  {
   "cell_type": "code",
   "execution_count": 6,
   "metadata": {},
   "outputs": [],
   "source": [
    "# CONNECT NEO4j\n",
    "from neo4j import GraphDatabase\n",
    "\n",
    "uri = \"bolt://{host}:7687\".format(host=NEO4J_HOST)\n",
    "\n",
    "with GraphDatabase.driver(uri, auth=(NEO4J_USER, NEO4J_PASSWORD)) as driver: \n",
    "    driver.verify_connectivity() \n",
    "    session = driver.session(database='')\n",
    "    \n",
    "def cypher_run(cypher):\n",
    "    result = session.run(cypher)\n",
    "    return result.to_df()\n",
    "\n",
    "def cypher_run_g(cypher):\n",
    "    result = session.run(cypher)\n",
    "    return result.graph()\n"
   ]
  },
  {
   "attachments": {
    "d5e72189-9339-4c1a-a34b-cc03feca5858.png": {
     "image/png": "[encoded data removed]"
    }
   },
   "cell_type": "markdown",
   "metadata": {},
   "source": [
    "![neo4jstockgraph.png](attachment:d5e72189-9339-4c1a-a34b-cc03feca5858.png)"
   ]
  },
  {
   "cell_type": "markdown",
   "metadata": {},
   "source": [
    "Create 'Stock' nodes"
   ]
  },
  {
   "cell_type": "code",
   "execution_count": 12,
   "metadata": {},
   "outputs": [],
   "source": [
    "NASDAQ_DF[\"Name\"].drop_duplicates().to_csv('{path}/{file}'.format(path=STOCK_DATA,file=\"stock_names.csv\"))"
   ]
  },
  {
   "cell_type": "code",
   "execution_count": 13,
   "metadata": {},
   "outputs": [
    {
     "data": {
      "text/html": [
       "<div>\n",
       "<style scoped>\n",
       "    .dataframe tbody tr th:only-of-type {\n",
       "        vertical-align: middle;\n",
       "    }\n",
       "\n",
       "    .dataframe tbody tr th {\n",
       "        vertical-align: top;\n",
       "    }\n",
       "\n",
       "    .dataframe thead th {\n",
       "        text-align: right;\n",
       "    }\n",
       "</style>\n",
       "<table border=\"1\" class=\"dataframe\">\n",
       "  <thead>\n",
       "    <tr style=\"text-align: right;\">\n",
       "      <th></th>\n",
       "    </tr>\n",
       "  </thead>\n",
       "  <tbody>\n",
       "  </tbody>\n",
       "</table>\n",
       "</div>"
      ],
      "text/plain": [
       "Empty DataFrame\n",
       "Columns: []\n",
       "Index: []"
      ]
     },
     "execution_count": 13,
     "metadata": {},
     "output_type": "execute_result"
    }
   ],
   "source": [
    "q = \"\"\"\n",
    "LOAD CSV WITH HEADERS FROM 'http://fileserver:4858/NASDAQ_DATA/NASDAQ_100_Data_From_2010.csv' AS row\n",
    "MERGE (s:Stock {id:row.Name})\n",
    "\"\"\"\n",
    "cypher_run(q)"
   ]
  },
  {
   "cell_type": "code",
   "execution_count": 14,
   "metadata": {},
   "outputs": [
    {
     "data": {
      "text/html": [
       "<div>\n",
       "<style scoped>\n",
       "    .dataframe tbody tr th:only-of-type {\n",
       "        vertical-align: middle;\n",
       "    }\n",
       "\n",
       "    .dataframe tbody tr th {\n",
       "        vertical-align: top;\n",
       "    }\n",
       "\n",
       "    .dataframe thead th {\n",
       "        text-align: right;\n",
       "    }\n",
       "</style>\n",
       "<table border=\"1\" class=\"dataframe\">\n",
       "  <thead>\n",
       "    <tr style=\"text-align: right;\">\n",
       "      <th></th>\n",
       "      <th>COUNT(n)</th>\n",
       "    </tr>\n",
       "  </thead>\n",
       "  <tbody>\n",
       "    <tr>\n",
       "      <th>0</th>\n",
       "      <td>102</td>\n",
       "    </tr>\n",
       "  </tbody>\n",
       "</table>\n",
       "</div>"
      ],
      "text/plain": [
       "   COUNT(n)\n",
       "0       102"
      ]
     },
     "execution_count": 14,
     "metadata": {},
     "output_type": "execute_result"
    }
   ],
   "source": [
    "q=\"\"\"\n",
    "MATCH (n:Stock) RETURN COUNT(n);\n",
    "\"\"\"\n",
    "cypher_run(q)"
   ]
  },
  {
   "cell_type": "markdown",
   "metadata": {},
   "source": [
    "TODO: \n",
    "1. Create 'StockTradingDay' nodes\n",
    "2. Add TRADING_DAY relationship between Stock and Trading day"
   ]
  },
  {
   "cell_type": "code",
   "execution_count": null,
   "metadata": {},
   "outputs": [],
   "source": [
    "q = \"\"\"\n",
    "LOAD CSV WITH HEADERS FROM 'http://fileserver:4858/NASDAQ_DATA/stock_names.csv' AS row\n",
    "MERGE (s:Stock {id:row.Name})\n",
    "\"\"\"\n",
    "cypher_run(q)"
   ]
  },
  {
   "cell_type": "markdown",
   "metadata": {},
   "source": [
    "Create [:NEXT] relationship property between nodes"
   ]
  },
  {
   "cell_type": "code",
   "execution_count": null,
   "metadata": {},
   "outputs": [],
   "source": [
    "  # Create NEXT relationship between encounters of a patient\n",
    "q = \"\"\"\n",
    "    CALL apoc.periodic.iterate(\n",
    "    'MATCH (p:Patient) RETURN p',\n",
    "    'MATCH (p)-[:HAS_ENCOUNTER]->(e)\n",
    "    WITH e\n",
    "    ORDER BY e.date\n",
    "    WITH collect(e) AS encounters\n",
    "    WITH encounters, encounters[1..] as nextEncounters\n",
    "    UNWIND range(0,size(nextEncounters)-1,1) as index\n",
    "    WITH encounters[index] as first, nextEncounters[index] as second\n",
    "    CREATE (first)-[:NEXT]->(second)',{iterateList:false});\n",
    "    \n",
    "    \"\"\"\n",
    "cypher_run(q)"
   ]
  },
  {
   "cell_type": "markdown",
   "metadata": {},
   "source": [
    "### KNN\n",
    "Find KNN similarity using trade volume among nodes, using [:SIMILAR_KNN_VOLUME] relationship among PRICE Nodes"
   ]
  },
  {
   "cell_type": "code",
   "execution_count": null,
   "metadata": {},
   "outputs": [],
   "source": [
    "query = \"\"\"\n",
    "\n",
    "CALL gds.nodeSimilarity.write.estimate('northwindGraph1', {\n",
    "  writeRelationshipType: 'SIMILAR',\n",
    "  writeProperty: 'score'\n",
    "})\n",
    "YIELD nodeCount, relationshipCount, bytesMin, bytesMax, requiredMemory\n",
    "\n",
    "\"\"\""
   ]
  },
  {
   "cell_type": "code",
   "execution_count": null,
   "metadata": {},
   "outputs": [],
   "source": [
    "query = \"\"\"\n",
    "CALL gds.nodeSimilarity.stream('northwindGraph1')\n",
    "YIELD node1, node2, similarity\n",
    "RETURN gds.util.asNode(node1).customerID AS customer1, gds.util.asNode(node2).customerID AS customer2, similarity\n",
    "ORDER BY similarity DESCENDING, customer1, customer2\n",
    "\"\"\"\n",
    "\n",
    "cypher_run(query)"
   ]
  },
  {
   "cell_type": "markdown",
   "metadata": {},
   "source": [
    "### Community detection\n",
    "Using Louvain algorithm on [:SIMILAR_KNN_VOLUME] relationship to Create VolumeCommunity property"
   ]
  },
  {
   "cell_type": "code",
   "execution_count": 3,
   "metadata": {},
   "outputs": [],
   "source": [
    "# https://neo4j.com/docs/graph-data-science/current/algorithms/louvain/"
   ]
  },
  {
   "cell_type": "markdown",
   "metadata": {},
   "source": [
    "### Label Propagation Algorithm\n",
    "Hierarchical Structures Communities using"
   ]
  },
  {
   "cell_type": "code",
   "execution_count": 2,
   "metadata": {},
   "outputs": [],
   "source": [
    "# https://neo4j.com/docs/graph-data-science/current/algorithms/label-propagation/"
   ]
  },
  {
   "cell_type": "code",
   "execution_count": null,
   "metadata": {},
   "outputs": [],
   "source": []
  }
 ],
 "metadata": {
  "kernelspec": {
   "display_name": "Python 3 (ipykernel)",
   "language": "python",
   "name": "python3"
  },
  "language_info": {
   "codemirror_mode": {
    "name": "ipython",
    "version": 3
   },
   "file_extension": ".py",
   "mimetype": "text/x-python",
   "name": "python",
   "nbconvert_exporter": "python",
   "pygments_lexer": "ipython3",
   "version": "3.11.5"
  }
 },
 "nbformat": 4,
 "nbformat_minor": 4
}
