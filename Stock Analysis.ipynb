{
 "cells": [
  {
   "cell_type": "markdown",
   "metadata": {},
   "source": [
    "# Pattern Driven Stock Analysis\n",
    "\n",
    "Finding Similar Stocks using Graph Analytis in Neo4j.\n"
   ]
  },
  {
   "cell_type": "markdown",
   "metadata": {},
   "source": [
    "# Steps\n",
    "\n",
    "1. Import Stock Data into Neo4j\n",
    "2. Create [:NEXT] relationship property between nodes\n",
    "3. Find KNN similarity using trade volume among nodes: Create [:SIMILAR_KNN_VOLUME]  relationship among PRICE Nodes\n",
    "4. Community detection based on Louvain algorithm using [:SIMILAR_KNN_VOLUME] relationship: Create VolumeCommunity property\n",
    "5. Hierarchical Structures Communities using Label Propagation Algorithm"
   ]
  },
  {
   "cell_type": "code",
   "execution_count": null,
   "metadata": {},
   "outputs": [],
   "source": [
    "! pip install python-dotenv ipython-cypher neo4j py2neo yfiles_jupyter_graphs graphdatascience pandas --quiet"
   ]
  },
  {
   "cell_type": "code",
   "execution_count": null,
   "metadata": {},
   "outputs": [],
   "source": [
    "import os\n",
    "%load_ext dotenv\n",
    "%dotenv\n",
    "\n",
    "PATIENT_DATA_PATH=os.getenv(\"PATIENT_DATA_PATH\")\n",
    "NEO4J_HOST=os.getenv(\"NEO4J_HOST\")\n",
    "NEO4J_USER=os.getenv(\"NEO4J_USER\")\n",
    "NEO4J_PASSWORD=os.getenv(\"NEO4J_PASSWORD\")"
   ]
  },
  {
   "cell_type": "markdown",
   "metadata": {},
   "source": [
    "### Import Stock Data into Neo4j\n",
    "\n",
    "Using NASDAQ Data from: https://www.kaggle.com/datasets/kalilurrahman/nasdaq100-stock-price-data"
   ]
  },
  {
   "cell_type": "code",
   "execution_count": null,
   "metadata": {},
   "outputs": [],
   "source": [
    "q = \"\"\"\n",
    "LOAD CSV WITH HEADERS FROM 'http://fileserver:4858/patient_data/csv/payers.csv' AS row\n",
    "MERGE (p:Payer {id:row.Id})\n",
    "          SET p.name=row.NAME,\n",
    "            p.address=row.ADDRESS,\n",
    "            p.city=row.CITY,\n",
    "            p.zip=row.ZIP,\n",
    "            p.state=row.STATE_HEADQUARTERED\n",
    "\"\"\"\n",
    "cypher_run(q)"
   ]
  },
  {
   "cell_type": "markdown",
   "metadata": {},
   "source": [
    "Create [:NEXT] relationship property between nodes"
   ]
  },
  {
   "cell_type": "code",
   "execution_count": null,
   "metadata": {},
   "outputs": [],
   "source": [
    "  # Create NEXT relationship between encounters of a patient\n",
    "q = \"\"\"\n",
    "    CALL apoc.periodic.iterate(\n",
    "    'MATCH (p:Patient) RETURN p',\n",
    "    'MATCH (p)-[:HAS_ENCOUNTER]->(e)\n",
    "    WITH e\n",
    "    ORDER BY e.date\n",
    "    WITH collect(e) AS encounters\n",
    "    WITH encounters, encounters[1..] as nextEncounters\n",
    "    UNWIND range(0,size(nextEncounters)-1,1) as index\n",
    "    WITH encounters[index] as first, nextEncounters[index] as second\n",
    "    CREATE (first)-[:NEXT]->(second)',{iterateList:false});\n",
    "    \n",
    "    \"\"\"\n",
    "cypher_run(q)"
   ]
  },
  {
   "cell_type": "markdown",
   "metadata": {},
   "source": [
    "### KNN\n",
    "Find KNN similarity using trade volume among nodes, using [:SIMILAR_KNN_VOLUME] relationship among PRICE Nodes"
   ]
  },
  {
   "cell_type": "code",
   "execution_count": null,
   "metadata": {},
   "outputs": [],
   "source": [
    "query = \"\"\"\n",
    "\n",
    "CALL gds.nodeSimilarity.write.estimate('northwindGraph1', {\n",
    "  writeRelationshipType: 'SIMILAR',\n",
    "  writeProperty: 'score'\n",
    "})\n",
    "YIELD nodeCount, relationshipCount, bytesMin, bytesMax, requiredMemory\n",
    "\n",
    "\"\"\""
   ]
  },
  {
   "cell_type": "code",
   "execution_count": null,
   "metadata": {},
   "outputs": [],
   "source": [
    "query = \"\"\"\n",
    "CALL gds.nodeSimilarity.stream('northwindGraph1')\n",
    "YIELD node1, node2, similarity\n",
    "RETURN gds.util.asNode(node1).customerID AS customer1, gds.util.asNode(node2).customerID AS customer2, similarity\n",
    "ORDER BY similarity DESCENDING, customer1, customer2\n",
    "\"\"\"\n",
    "\n",
    "cypher_run(query)"
   ]
  },
  {
   "cell_type": "markdown",
   "metadata": {},
   "source": [
    "### Community detection\n",
    "Using Louvain algorithm on [:SIMILAR_KNN_VOLUME] relationship to Create VolumeCommunity property"
   ]
  },
  {
   "cell_type": "code",
   "execution_count": 3,
   "metadata": {},
   "outputs": [],
   "source": [
    "# https://neo4j.com/docs/graph-data-science/current/algorithms/louvain/"
   ]
  },
  {
   "cell_type": "markdown",
   "metadata": {},
   "source": [
    "### Label Propagation Algorithm\n",
    "Hierarchical Structures Communities using"
   ]
  },
  {
   "cell_type": "code",
   "execution_count": 2,
   "metadata": {},
   "outputs": [],
   "source": [
    "# https://neo4j.com/docs/graph-data-science/current/algorithms/label-propagation/"
   ]
  },
  {
   "cell_type": "code",
   "execution_count": null,
   "metadata": {},
   "outputs": [],
   "source": []
  }
 ],
 "metadata": {
  "kernelspec": {
   "display_name": "Python 3 (ipykernel)",
   "language": "python",
   "name": "python3"
  },
  "language_info": {
   "codemirror_mode": {
    "name": "ipython",
    "version": 3
   },
   "file_extension": ".py",
   "mimetype": "text/x-python",
   "name": "python",
   "nbconvert_exporter": "python",
   "pygments_lexer": "ipython3",
   "version": "3.11.5"
  }
 },
 "nbformat": 4,
 "nbformat_minor": 4
}
